{
 "cells": [
  {
   "cell_type": "code",
   "execution_count": 2,
   "metadata": {},
   "outputs": [
    {
     "name": "stdout",
     "output_type": "stream",
     "text": [
      "Enter the image name \n",
      "sample.jpg\n"
     ]
    }
   ],
   "source": [
    "import cv2\n",
    "import numpy as np\n",
    "import pandas as pd\n",
    "\n",
    "image_path=input(\"Enter the image name \\n\") #Enter the name of the image (if in same folder if not then the address too)\n",
    "clicked = False\n",
    "r = g = b = xpos = ypos = 0\n",
    "image = cv2.imread(image_path)        #using opencv to read the image \n",
    "\n",
    "\n",
    "labels=[\"color\",\"color_name\",\"hex\",\"R\",\"G\",\"B\"]               #reading colors from the colorslist\n",
    "csv = pd.read_csv('colors_list.csv', names=labels, header=None)\n",
    "\n",
    "\n",
    "def getColorName(R,G,B):  #function to get the most matching color\n",
    "    minimum = 10000\n",
    "    for i in range(len(csv)):\n",
    "        d = abs(R- int(csv.loc[i,\"R\"])) + abs(G- int(csv.loc[i,\"G\"]))+ abs(B- int(csv.loc[i,\"B\"]))\n",
    "        if(d<=minimum):\n",
    "            minimum = d\n",
    "            cname = csv.loc[i,\"color_name\"]\n",
    "    return cname\n",
    "\n",
    "\n",
    "def draw_function(event, x,y,flags,param):  #to get the coordinates of mouse click\n",
    "    if event == cv2.EVENT_LBUTTONDBLCLK:\n",
    "        global b,g,r,xpos,ypos, clicked\n",
    "        clicked = True\n",
    "        xpos = x\n",
    "        ypos = y\n",
    "        b,g,r = image[y,x]\n",
    "        b = int(b)\n",
    "        g = int(g)\n",
    "        r = int(r)\n",
    "       \n",
    "cv2.namedWindow('image')\n",
    "cv2.setMouseCallback('image',draw_function)\n",
    "\n",
    "while(1):\n",
    "    cv2.imshow(\"image\",image)\n",
    "    if (clicked):\n",
    "        text = getColorName(r,g,b) \n",
    "        cv2.putText(image, text,(xpos,ypos),2,0.8,(255,255,255),2,cv2.LINE_8) #For darker colors\n",
    "        if(r+g+b>=600):\n",
    "            cv2.putText(image, text,(xpos,ypos),2,0.8,(0,0,0),2,cv2.LINE_8) #For lighter colors\n",
    "        clicked=False            \n",
    "\n",
    "    #Break the loop when user hits 'esc' key    \n",
    "    if cv2.waitKey(20) & 0xFF ==27:\n",
    "        break\n",
    "    \n",
    "cv2.destroyAllWindows()"
   ]
  },
  {
   "cell_type": "code",
   "execution_count": null,
   "metadata": {},
   "outputs": [],
   "source": []
  }
 ],
 "metadata": {
  "kernelspec": {
   "display_name": "Python 3",
   "language": "python",
   "name": "python3"
  },
  "language_info": {
   "codemirror_mode": {
    "name": "ipython",
    "version": 3
   },
   "file_extension": ".py",
   "mimetype": "text/x-python",
   "name": "python",
   "nbconvert_exporter": "python",
   "pygments_lexer": "ipython3",
   "version": "3.8.5"
  }
 },
 "nbformat": 4,
 "nbformat_minor": 4
}
